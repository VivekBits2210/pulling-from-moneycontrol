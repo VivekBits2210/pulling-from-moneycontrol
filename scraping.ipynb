{
 "cells": [
  {
   "cell_type": "code",
   "execution_count": 1,
   "metadata": {},
   "outputs": [],
   "source": [
    "from bs4 import BeautifulSoup\n",
    "import requests\n",
    "import re"
   ]
  },
  {
   "cell_type": "code",
   "execution_count": 2,
   "metadata": {},
   "outputs": [],
   "source": [
    "query = \"https://www.moneycontrol.com/mutual-funds/find-fund/returns?&amc=BIRMUTF,AXMF,BOBMUF,ABNAMF,BAXMF,CANMUTF,DSPMLMF,EDELWMF,PEERMF,TEMMUFT,HDFCMUTF,HSBCMUTF,PRUICM,IDBIMF,ANZGRMUTF,IDFMF,IIFLMF,INDIABMF,LIMF,ITIMF,JMMTFN,KMFLAMC,CHCAMUF,LICAMCL,MAHMF,MIRAEMF,MOMF,RELCAPM,PMF,PPFMF,IDBIMUT,ESCOMUF,QMF,SBIMUTF,SHMF,SUNMUTF,TATMUTF,TAUMUTF,UKBCMF,UTIMUTFD,YESMF&invtype=Equity%2CHybrid%2CDebt%2CSolution%20Oriented%2COthers&category=Multi%20Cap%20Fund,Large%20Cap%20Fund,Large%20%26%20Mid%20Cap%20Fund,Mid%20Cap%20Fund,Small%20Cap%20Fund,ELSS,Dividend%20Yield%20Fund,Sectoral%2FThematic,Contra%20Fund,Focused%20Fund,Value%20Fund,Aggressive%20Hybrid%20Fund,Conservative%20Hybrid%20Fund,Arbitrage%20Fund,Capital%20Protection%20Funds,Equity%20Savings,Dynamic%20Asset%20Allocation%20or%20Balanced%20Advantage,Multi%20Asset%20Allocation,Fixed%20Maturity%20Plans%20-%20Hybrid,Low%20Duration%20Fund,Short%20Duration%20Fund,Medium%20Duration%20Fund,Medium%20to%20Long%20Duration%20Fund,Long%20Duration%20Fund,Dynamic%20Bond%20Fund,Gilt%20Fund,Gilt%20Fund%20with%2010%20year%20constant%20duration,Corporate%20Bond%20Fund,Credit%20Risk%20Fund,Floater%20Fund,Banking%20and%20PSU%20Fund,Fixed%20Maturity%20Plans%20-%20Debt,Interval%20Plans,Ultra%20Short%20Duration%20Fund,Liquid%20Fund,Money%20Market%20Fund,Overnight%20Fund,Childrens%20Fund,Retirement%20Fund,Investment%20cum%20Insurance,Fund%20of%20Funds,Index%20Funds%2FETFs&rank=1,2,3,4,5,0\"\n",
    "text = requests.get(query).text\n",
    "pattern = \"<a href=\\\"https://www.moneycontrol.com/mutual-funds/nav/.*<span class=\\\"sn\\\">\"\n",
    "mf_strings = re.findall(pattern, text)"
   ]
  },
  {
   "cell_type": "code",
   "execution_count": 4,
   "metadata": {},
   "outputs": [],
   "source": [
    "link_to_name_map = {}\n",
    "links = [x.split('\\\"')[1] for x in mf_strings]\n",
    "fund_names = [x.split(\">\")[1].split(\"<\")[0] for x in mf_strings]\n",
    "for i in range(len(links)):\n",
    "    link_to_name_map[links[i]] = fund_names[i]\n",
    "    "
   ]
  },
  {
   "cell_type": "code",
   "execution_count": 10,
   "metadata": {},
   "outputs": [],
   "source": [
    "cols = ['NAV','Fund_Size_Cr','ER','ER_Cat_Avg','Risk_Rating']\n",
    "data = {} #maps link to list of data"
   ]
  },
  {
   "cell_type": "code",
   "execution_count": 12,
   "metadata": {},
   "outputs": [
    {
     "name": "stdout",
     "output_type": "stream",
     "text": [
      "https://www.moneycontrol.com/mutual-funds/nav/dsp-healthcare-fund-direct-plan-growth/MDS1483\n",
      "['19.346', '890.49', '0.81%', '1.37', 'High']\n",
      "\n",
      "https://www.moneycontrol.com/mutual-funds/nav/dsp-healthcare-fund-regular-plan-growth/MDS1485\n",
      "['18.68', '890.49', '2.34%', '2.39', 'High']\n",
      "\n",
      "https://www.moneycontrol.com/mutual-funds/nav/mirae-asset-healthcare-fund-direct-plan-growth/MMA141\n",
      "['18.976', '1036.48', '0.68%', '1.37', 'High']\n",
      "\n",
      "https://www.moneycontrol.com/mutual-funds/nav/pgim-india-global-equity-opportunities-fund-direct-plan-growth/MDE501\n",
      "['36.22', '392.78', '1.34%', '0.71', 'High']\n",
      "\n",
      "https://www.moneycontrol.com/mutual-funds/nav/pgim-india-global-equity-opportunities-fund-growth/MDE284\n",
      "['33.54', '392.78', '2.65%', '1.33', 'High']\n"
     ]
    },
    {
     "ename": "KeyboardInterrupt",
     "evalue": "Interrupted by user",
     "output_type": "error",
     "traceback": [
      "\u001b[1;31m---------------------------------------------------------------------------\u001b[0m",
      "\u001b[1;31mKeyboardInterrupt\u001b[0m                         Traceback (most recent call last)",
      "\u001b[1;32m<ipython-input-12-ff83a63b86c0>\u001b[0m in \u001b[0;36m<module>\u001b[1;34m\u001b[0m\n\u001b[0;32m     12\u001b[0m     \u001b[1;31m#The '2' chooses some data, pick up the rest later\u001b[0m\u001b[1;33m\u001b[0m\u001b[1;33m\u001b[0m\u001b[1;33m\u001b[0m\u001b[0m\n\u001b[0;32m     13\u001b[0m     \u001b[0mprint\u001b[0m\u001b[1;33m(\u001b[0m\u001b[0mdata\u001b[0m\u001b[1;33m[\u001b[0m\u001b[0mL\u001b[0m\u001b[1;33m]\u001b[0m\u001b[1;33m)\u001b[0m\u001b[1;33m\u001b[0m\u001b[1;33m\u001b[0m\u001b[0m\n\u001b[1;32m---> 14\u001b[1;33m     \u001b[0minput\u001b[0m\u001b[1;33m(\u001b[0m\u001b[1;33m)\u001b[0m\u001b[1;33m\u001b[0m\u001b[1;33m\u001b[0m\u001b[0m\n\u001b[0m",
      "\u001b[1;32mc:\\users\\admin\\appdata\\local\\programs\\python\\python39\\lib\\site-packages\\ipykernel\\kernelbase.py\u001b[0m in \u001b[0;36mraw_input\u001b[1;34m(self, prompt)\u001b[0m\n\u001b[0;32m    858\u001b[0m                 \u001b[1;34m\"raw_input was called, but this frontend does not support input requests.\"\u001b[0m\u001b[1;33m\u001b[0m\u001b[1;33m\u001b[0m\u001b[0m\n\u001b[0;32m    859\u001b[0m             )\n\u001b[1;32m--> 860\u001b[1;33m         return self._input_request(str(prompt),\n\u001b[0m\u001b[0;32m    861\u001b[0m             \u001b[0mself\u001b[0m\u001b[1;33m.\u001b[0m\u001b[0m_parent_ident\u001b[0m\u001b[1;33m,\u001b[0m\u001b[1;33m\u001b[0m\u001b[1;33m\u001b[0m\u001b[0m\n\u001b[0;32m    862\u001b[0m             \u001b[0mself\u001b[0m\u001b[1;33m.\u001b[0m\u001b[0m_parent_header\u001b[0m\u001b[1;33m,\u001b[0m\u001b[1;33m\u001b[0m\u001b[1;33m\u001b[0m\u001b[0m\n",
      "\u001b[1;32mc:\\users\\admin\\appdata\\local\\programs\\python\\python39\\lib\\site-packages\\ipykernel\\kernelbase.py\u001b[0m in \u001b[0;36m_input_request\u001b[1;34m(self, prompt, ident, parent, password)\u001b[0m\n\u001b[0;32m    902\u001b[0m             \u001b[1;32mexcept\u001b[0m \u001b[0mKeyboardInterrupt\u001b[0m\u001b[1;33m:\u001b[0m\u001b[1;33m\u001b[0m\u001b[1;33m\u001b[0m\u001b[0m\n\u001b[0;32m    903\u001b[0m                 \u001b[1;31m# re-raise KeyboardInterrupt, to truncate traceback\u001b[0m\u001b[1;33m\u001b[0m\u001b[1;33m\u001b[0m\u001b[1;33m\u001b[0m\u001b[0m\n\u001b[1;32m--> 904\u001b[1;33m                 \u001b[1;32mraise\u001b[0m \u001b[0mKeyboardInterrupt\u001b[0m\u001b[1;33m(\u001b[0m\u001b[1;34m\"Interrupted by user\"\u001b[0m\u001b[1;33m)\u001b[0m \u001b[1;32mfrom\u001b[0m \u001b[1;32mNone\u001b[0m\u001b[1;33m\u001b[0m\u001b[1;33m\u001b[0m\u001b[0m\n\u001b[0m\u001b[0;32m    905\u001b[0m             \u001b[1;32mexcept\u001b[0m \u001b[0mException\u001b[0m \u001b[1;32mas\u001b[0m \u001b[0me\u001b[0m\u001b[1;33m:\u001b[0m\u001b[1;33m\u001b[0m\u001b[1;33m\u001b[0m\u001b[0m\n\u001b[0;32m    906\u001b[0m                 \u001b[0mself\u001b[0m\u001b[1;33m.\u001b[0m\u001b[0mlog\u001b[0m\u001b[1;33m.\u001b[0m\u001b[0mwarning\u001b[0m\u001b[1;33m(\u001b[0m\u001b[1;34m\"Invalid Message:\"\u001b[0m\u001b[1;33m,\u001b[0m \u001b[0mexc_info\u001b[0m\u001b[1;33m=\u001b[0m\u001b[1;32mTrue\u001b[0m\u001b[1;33m)\u001b[0m\u001b[1;33m\u001b[0m\u001b[1;33m\u001b[0m\u001b[0m\n",
      "\u001b[1;31mKeyboardInterrupt\u001b[0m: Interrupted by user"
     ]
    },
    {
     "name": "stdout",
     "output_type": "stream",
     "text": [
      "\n"
     ]
    }
   ],
   "source": [
    "map_one = {1:0,2:1,3:1}\n",
    "for L in links:\n",
    "    fund_text = requests.get(L).text\n",
    "    print(L)\n",
    "    data[L] = []\n",
    "    token_list = re.findall(\"<span class=\\\"amt\\\">.*</span>\",fund_text)\n",
    "    for x in token_list[:3]:\n",
    "        temp_list = x.split('>')[1].split('<')[0].split(' ')\n",
    "        data[L].append(temp_list[map_one[len(temp_list)]])\n",
    "    data[L].append(re.findall(\"<div class=\\\"grayvalue\\\">.*</div>\",fund_text)[2].split('(')[1].split('%')[0]) #The '2' chooses some data, pick up the rest later\n",
    "    data[L].append(re.findall(\"<span class=\\\"status\\\">.*</span>\",fund_text)[0].split('>')[1].split('<')[0])\n",
    "    print(data[L])\n",
    "    print(re.findall(\"<div class=\"investment_block\">\",fund_text))\n",
    "    input()"
   ]
  },
  {
   "cell_type": "code",
   "execution_count": null,
   "metadata": {},
   "outputs": [],
   "source": []
  }
 ],
 "metadata": {
  "kernelspec": {
   "display_name": "Python 3",
   "language": "python",
   "name": "python3"
  }
 },
 "nbformat": 4,
 "nbformat_minor": 4
}
